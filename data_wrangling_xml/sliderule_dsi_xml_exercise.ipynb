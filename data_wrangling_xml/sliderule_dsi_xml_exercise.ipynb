{
 "cells": [
  {
   "cell_type": "markdown",
   "metadata": {},
   "source": [
    "# XML example and exercise\n",
    "****\n",
    "+ study examples of accessing nodes in XML tree structure  \n",
    "+ work on exercise to be completed and submitted\n",
    "****\n",
    "+ reference: https://docs.python.org/2.7/library/xml.etree.elementtree.html\n",
    "+ data source: http://www.dbis.informatik.uni-goettingen.de/Mondial\n",
    "****"
   ]
  },
  {
   "cell_type": "code",
   "execution_count": 1,
   "metadata": {
    "collapsed": true
   },
   "outputs": [],
   "source": [
    "from xml.etree import ElementTree as ET"
   ]
  },
  {
   "cell_type": "code",
   "execution_count": 2,
   "metadata": {
    "collapsed": true
   },
   "outputs": [],
   "source": [
    "import operator"
   ]
  },
  {
   "cell_type": "markdown",
   "metadata": {},
   "source": [
    "## XML example\n",
    "\n",
    "+ for details about tree traversal and iterators, see https://docs.python.org/2.7/library/xml.etree.elementtree.html"
   ]
  },
  {
   "cell_type": "code",
   "execution_count": 3,
   "metadata": {
    "collapsed": true
   },
   "outputs": [],
   "source": [
    "document_tree = ET.parse( './data/mondial_database_less.xml' )"
   ]
  },
  {
   "cell_type": "code",
   "execution_count": 4,
   "metadata": {
    "collapsed": false
   },
   "outputs": [
    {
     "name": "stdout",
     "output_type": "stream",
     "text": [
      "Albania\n",
      "Greece\n",
      "Macedonia\n",
      "Serbia\n",
      "Montenegro\n",
      "Kosovo\n",
      "Andorra\n"
     ]
    }
   ],
   "source": [
    "# print names of all countries\n",
    "for child in document_tree.getroot():\n",
    "    print(child.find('name').text)"
   ]
  },
  {
   "cell_type": "code",
   "execution_count": 5,
   "metadata": {
    "collapsed": false
   },
   "outputs": [
    {
     "name": "stdout",
     "output_type": "stream",
     "text": [
      "* Albania:\n",
      "Tirana, Shkodër, Durrës, Vlorë, Elbasan, Korçë\n",
      "* Greece:\n",
      "Komotini, Kavala, Athina, Peiraias, Peristeri, Acharnes, Patra, Kozani, Kerkyra, Ioannina, Thessaloniki, Iraklio, Chania, Ermoupoli, Rhodes, Tripoli, Lamia, Chalkida, Larissa, Volos, Mytilini, Karyes\n",
      "* Macedonia:\n",
      "Skopje, Kumanovo\n",
      "* Serbia:\n",
      "Beograd, Novi Sad, Niš\n",
      "* Montenegro:\n",
      "Podgorica\n",
      "* Kosovo:\n",
      "Prishtine\n",
      "* Andorra:\n",
      "Andorra la Vella\n"
     ]
    }
   ],
   "source": [
    "# print names of all countries and their cities\n",
    "for element in document_tree.iterfind('country'):\n",
    "    print('* ' + element.find('name').text + ':')\n",
    "    capitals_string = ''\n",
    "    for subelement in element.getiterator('city'):\n",
    "        capitals_string += subelement.find('name').text + ', '\n",
    "    print(capitals_string[:-2])"
   ]
  },
  {
   "cell_type": "markdown",
   "metadata": {},
   "source": [
    "****\n",
    "## XML exercise\n",
    "\n",
    "Using data in 'data/mondial_database.xml', the examples above, and refering to https://docs.python.org/2.7/library/xml.etree.elementtree.html, find\n",
    "\n",
    "1. 10 countries with the lowest infant mortality rates\n",
    "2. 10 cities with the largest population\n",
    "3. 10 ethnic groups with the largest overall populations (sum of best/latest estimates over all countries)\n",
    "4. name and country of a) longest river, b) largest lake and c) airport at highest elevation"
   ]
  },
  {
   "cell_type": "code",
   "execution_count": 6,
   "metadata": {
    "collapsed": true
   },
   "outputs": [],
   "source": [
    "# Parse data\n",
    "document = ET.parse( './data/mondial_database.xml' )"
   ]
  },
  {
   "cell_type": "markdown",
   "metadata": {},
   "source": [
    "#### 1. 10 countries with the lowest infant mortality rates"
   ]
  },
  {
   "cell_type": "code",
   "execution_count": 7,
   "metadata": {
    "collapsed": true
   },
   "outputs": [],
   "source": [
    "# Set up container list to hold values\n",
    "container = {}"
   ]
  },
  {
   "cell_type": "code",
   "execution_count": 8,
   "metadata": {
    "collapsed": true
   },
   "outputs": [],
   "source": [
    "# Fill container with corresponding values of 'country' and 'infant_mortality'\n",
    "for element in document.iterfind('country'):\n",
    "    if element.find('infant_mortality') is None:\n",
    "        pass\n",
    "    else:\n",
    "        country_name = element.find('name').text\n",
    "        inf_mort = element.find('infant_mortality').text\n",
    "        container[country_name] = float(inf_mort)"
   ]
  },
  {
   "cell_type": "code",
   "execution_count": 9,
   "metadata": {
    "collapsed": true
   },
   "outputs": [],
   "source": [
    "#container"
   ]
  },
  {
   "cell_type": "code",
   "execution_count": 10,
   "metadata": {
    "collapsed": true
   },
   "outputs": [],
   "source": [
    "# Sorts container according to 'infant_mortality' by making it a a dict first\n",
    "sorted_dict = sorted(container.items(), key=operator.itemgetter(1))\n",
    "#sorted_dict"
   ]
  },
  {
   "cell_type": "code",
   "execution_count": 11,
   "metadata": {
    "collapsed": false
   },
   "outputs": [
    {
     "name": "stdout",
     "output_type": "stream",
     "text": [
      "[('Monaco', 1.81), ('Japan', 2.13), ('Norway', 2.48), ('Bermuda', 2.48), ('Singapore', 2.53), ('Sweden', 2.6), ('Czech Republic', 2.63), ('Hong Kong', 2.73), ('Macao', 3.13), ('Iceland', 3.15)]\n"
     ]
    }
   ],
   "source": [
    "# Print first 10 entries which is the 10 countries with the least infant mortality rates and the corresponding rates\n",
    "print(sorted_dict[:10])"
   ]
  },
  {
   "cell_type": "markdown",
   "metadata": {},
   "source": [
    "#### 2. 10 cities with the largest population"
   ]
  },
  {
   "cell_type": "code",
   "execution_count": 12,
   "metadata": {
    "collapsed": true
   },
   "outputs": [],
   "source": [
    "# Set up container list to hold values\n",
    "container2 = {}"
   ]
  },
  {
   "cell_type": "code",
   "execution_count": 13,
   "metadata": {
    "collapsed": true
   },
   "outputs": [],
   "source": [
    "# Fill container with corresponding values of 'city' and 'population'\n",
    "for element in document.iterfind('country'):\n",
    "    for subelement in document.getiterator('city'):\n",
    "        if subelement.find(\"population[@year='2011']\") is None:\n",
    "            pass\n",
    "        else:\n",
    "            city_name = subelement.find('name').text\n",
    "            pop = subelement.find(\"population[@year='2011']\").text\n",
    "            container2[city_name] = float(pop)"
   ]
  },
  {
   "cell_type": "code",
   "execution_count": 14,
   "metadata": {
    "collapsed": true
   },
   "outputs": [],
   "source": [
    "#container2"
   ]
  },
  {
   "cell_type": "code",
   "execution_count": 15,
   "metadata": {
    "collapsed": true
   },
   "outputs": [],
   "source": [
    "# Sorts container according to 'population' of a city by making it a a dict first\n",
    "sorted_dict2 = sorted(container2.items(), key=operator.itemgetter(1), reverse=True)\n",
    "#sorted_dict2"
   ]
  },
  {
   "cell_type": "code",
   "execution_count": 16,
   "metadata": {
    "collapsed": false
   },
   "outputs": [
    {
     "name": "stdout",
     "output_type": "stream",
     "text": [
      "[('Mumbai', 12442373.0), ('Delhi', 11034555.0), ('Bangalore', 8443675.0), ('Tehran', 8154051.0), ('Dhaka', 7423137.0), ('Hyderabad', 6731790.0), ('Ahmadabad', 5577940.0), ('Luanda', 5000000.0), ('Chennai', 4646732.0), ('Sydney', 4605992.0)]\n"
     ]
    }
   ],
   "source": [
    "# Print first 10 entries which is the biggest populated 10 cities along with their corresponding population\n",
    "print(sorted_dict2[:10])"
   ]
  },
  {
   "cell_type": "markdown",
   "metadata": {},
   "source": [
    "#### 3. 10 ethnic groups with the largest overall populations (sum of best/latest estimates over all countries)"
   ]
  },
  {
   "cell_type": "code",
   "execution_count": 17,
   "metadata": {
    "collapsed": true
   },
   "outputs": [],
   "source": [
    "# Set up container list to hold values\n",
    "container3 = {}"
   ]
  },
  {
   "cell_type": "code",
   "execution_count": 18,
   "metadata": {
    "collapsed": true
   },
   "outputs": [],
   "source": [
    "# Fill container with corresponding values of 'country', ethnicgroup' and ethnic pop using arithmatic\n",
    "for element in document.iterfind('country'):\n",
    "        if element.find('./ethnicgroup[1][@percentage]') is None:\n",
    "            pass\n",
    "        else:\n",
    "            country_name = element.find('name').text\n",
    "            best_pop = int(element.find('./population[last()]').text)\n",
    "            ethnic = element.find('./ethnicgroup[1]')\n",
    "            ethnic_name = ethnic.text\n",
    "            ethnic_frac = float(ethnic.get('percentage'))/100   # turn percentage into fraction\n",
    "            #print(country_name, ethnic_name)\n",
    "            #print(best_pop * ethnic_frac)\n",
    "            container3[country_name, ethnic_name] = best_pop * ethnic_frac;   # multiply fraction of ethnicgroup by pop"
   ]
  },
  {
   "cell_type": "code",
   "execution_count": 19,
   "metadata": {
    "collapsed": false
   },
   "outputs": [],
   "source": [
    "#container3"
   ]
  },
  {
   "cell_type": "code",
   "execution_count": 20,
   "metadata": {
    "collapsed": true
   },
   "outputs": [],
   "source": [
    "# Sorts container according to 'population' of an 'ethnicgroup' by making it a a dict first\n",
    "sorted_dict3 = sorted(container3.items(), key=operator.itemgetter(1), reverse=True)\n",
    "#sorted_dict3"
   ]
  },
  {
   "cell_type": "code",
   "execution_count": 21,
   "metadata": {
    "collapsed": false
   },
   "outputs": [
    {
     "name": "stdout",
     "output_type": "stream",
     "text": [
      "[(('China', 'Han Chinese'), 1245058800.0), (('India', 'Dravidian'), 302713744.25), (('United States', 'European'), 254958101.97759998), (('Nigeria', 'African'), 162651570.84), (('Bangladesh', 'Bengali'), 146776916.72), (('Japan', 'Japanese'), 126534212.00000001), (('Russia', 'Russian'), 114646210.938), (('Indonesia', 'Javanese'), 113456006.10000001), (('Brazil', 'European'), 108886717.794), (('Vietnam', 'Viet/Kinh'), 76078375.3)]\n"
     ]
    }
   ],
   "source": [
    "# Print first 10 entries which is the biggest populated 10 ethnicgroups along with their corresponding population\n",
    "print(sorted_dict3[:10])"
   ]
  },
  {
   "cell_type": "markdown",
   "metadata": {},
   "source": [
    "#### 4. name and country of a) longest river, b) largest lake and c) airport at highest elevation"
   ]
  },
  {
   "cell_type": "markdown",
   "metadata": {},
   "source": [
    "##### a) longest river"
   ]
  },
  {
   "cell_type": "code",
   "execution_count": 22,
   "metadata": {
    "collapsed": true
   },
   "outputs": [],
   "source": [
    "# Set up container list to hold values\n",
    "container4 = {}"
   ]
  },
  {
   "cell_type": "code",
   "execution_count": 23,
   "metadata": {
    "collapsed": true
   },
   "outputs": [],
   "source": [
    "# Fill container with corresponding values of river name, country name and length\n",
    "for element in document.iterfind('river'):\n",
    "    river_id = element.get('id')\n",
    "    #print(river_id)\n",
    "    river_name = element.find('name').text\n",
    "    #print(river_name)\n",
    "    country_name = element.get('country')\n",
    "    #print(country_name)\n",
    "    length = element.find('./length')\n",
    "    if length is None:\n",
    "        pass\n",
    "    else:\n",
    "        #print(float(length.text))\n",
    "        container4[river_id, river_name, country_name] = float(length.text)"
   ]
  },
  {
   "cell_type": "code",
   "execution_count": 24,
   "metadata": {
    "collapsed": true
   },
   "outputs": [],
   "source": [
    "#container4"
   ]
  },
  {
   "cell_type": "code",
   "execution_count": 25,
   "metadata": {
    "collapsed": true
   },
   "outputs": [],
   "source": [
    "# Sorts container according to 'length' of a 'river' by making it a a dict first\n",
    "sorted_dict4 = sorted(container4.items(), key=operator.itemgetter(1), reverse=True)\n",
    "#sorted_dict4"
   ]
  },
  {
   "cell_type": "code",
   "execution_count": 26,
   "metadata": {
    "collapsed": false
   },
   "outputs": [
    {
     "name": "stdout",
     "output_type": "stream",
     "text": [
      "[(('river-Amazonas', 'Amazonas', 'CO BR PE'), 6448.0)]\n"
     ]
    }
   ],
   "source": [
    "# Print first entry which is the longest river\n",
    "print(sorted_dict4[:1])"
   ]
  },
  {
   "cell_type": "markdown",
   "metadata": {},
   "source": [
    "##### b) largest lake"
   ]
  },
  {
   "cell_type": "code",
   "execution_count": 27,
   "metadata": {
    "collapsed": true
   },
   "outputs": [],
   "source": [
    "# Set up container list to hold values\n",
    "container5 = {}"
   ]
  },
  {
   "cell_type": "code",
   "execution_count": 28,
   "metadata": {
    "collapsed": true
   },
   "outputs": [],
   "source": [
    "# Fill container with corresponding values of lake name, country name and area\n",
    "for element in document.iterfind('lake'):\n",
    "    lake_id = element.get('id')\n",
    "    #print(lake_id)\n",
    "    lake_name = element.find('name').text\n",
    "    #print(lake_name)\n",
    "    country_name = element.get('country')\n",
    "    #print(country_name)\n",
    "    area = element.find('./area')\n",
    "    if area is None:\n",
    "        pass\n",
    "    else:\n",
    "        #print(float(area.text))\n",
    "        container5[lake_id, lake_name, country_name] = float(area.text)"
   ]
  },
  {
   "cell_type": "code",
   "execution_count": 29,
   "metadata": {
    "collapsed": true
   },
   "outputs": [],
   "source": [
    "#container5"
   ]
  },
  {
   "cell_type": "code",
   "execution_count": 30,
   "metadata": {
    "collapsed": true
   },
   "outputs": [],
   "source": [
    "# Sorts container according to 'area' of a 'lake' by making it a a dict first\n",
    "sorted_dict5 = sorted(container5.items(), key=operator.itemgetter(1), reverse=True)\n",
    "#sorted_dict5"
   ]
  },
  {
   "cell_type": "code",
   "execution_count": 31,
   "metadata": {
    "collapsed": false
   },
   "outputs": [
    {
     "name": "stdout",
     "output_type": "stream",
     "text": [
      "[(('lake-KaspischesMeer', 'Caspian Sea', 'R AZ KAZ IR TM'), 386400.0)]\n"
     ]
    }
   ],
   "source": [
    "# Print first entry which is the largest lake\n",
    "print(sorted_dict5[:1])"
   ]
  },
  {
   "cell_type": "markdown",
   "metadata": {},
   "source": [
    "##### c) airport at highest elevation"
   ]
  },
  {
   "cell_type": "code",
   "execution_count": 32,
   "metadata": {
    "collapsed": true
   },
   "outputs": [],
   "source": [
    "# Set up container list to hold values\n",
    "container6 = {}"
   ]
  },
  {
   "cell_type": "code",
   "execution_count": 33,
   "metadata": {
    "collapsed": false
   },
   "outputs": [],
   "source": [
    "# Fill container with corresponding values of airport, country name and elevation\n",
    "for element in document.iterfind('airport'):\n",
    "    airport_id = element.get('iatacode')\n",
    "    #print(airport_id)\n",
    "    airport_name = element.find('name').text\n",
    "    #print(airport_name)\n",
    "    country_name = element.get('country')\n",
    "    #print(country_name)\n",
    "    elevation = element.find('./elevation').text\n",
    "    if elevation is None:\n",
    "        pass\n",
    "    else:\n",
    "        #print(float(elevation.text))\n",
    "        container6[airport_id, airport_name, country_name] = float(elevation)"
   ]
  },
  {
   "cell_type": "code",
   "execution_count": 34,
   "metadata": {
    "collapsed": false
   },
   "outputs": [],
   "source": [
    "#container6"
   ]
  },
  {
   "cell_type": "code",
   "execution_count": 35,
   "metadata": {
    "collapsed": true
   },
   "outputs": [],
   "source": [
    "# Sorts container according to 'elevation' of an 'airport' by making it a a dict first\n",
    "sorted_dict6 = sorted(container6.items(), key=operator.itemgetter(1), reverse=True)\n",
    "#sorted_dict6"
   ]
  },
  {
   "cell_type": "code",
   "execution_count": 36,
   "metadata": {
    "collapsed": false
   },
   "outputs": [
    {
     "name": "stdout",
     "output_type": "stream",
     "text": [
      "[(('LPB', 'El Alto Intl', 'BOL'), 4063.0)]\n"
     ]
    }
   ],
   "source": [
    "# Print first entry which is the highest elevation airport\n",
    "print(sorted_dict6[:1])"
   ]
  },
  {
   "cell_type": "code",
   "execution_count": null,
   "metadata": {
    "collapsed": true
   },
   "outputs": [],
   "source": []
  }
 ],
 "metadata": {
  "anaconda-cloud": {},
  "kernelspec": {
   "display_name": "Python [Root]",
   "language": "python",
   "name": "Python [Root]"
  },
  "language_info": {
   "codemirror_mode": {
    "name": "ipython",
    "version": 3
   },
   "file_extension": ".py",
   "mimetype": "text/x-python",
   "name": "python",
   "nbconvert_exporter": "python",
   "pygments_lexer": "ipython3",
   "version": "3.5.2"
  }
 },
 "nbformat": 4,
 "nbformat_minor": 0
}
